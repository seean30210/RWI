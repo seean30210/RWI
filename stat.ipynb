{
 "cells": [
  {
   "cell_type": "code",
   "execution_count": 50,
   "id": "f784ee09",
   "metadata": {},
   "outputs": [],
   "source": [
    "import pyvista as pv\n",
    "import numpy as np\n",
    "import vtk"
   ]
  },
  {
   "cell_type": "code",
   "execution_count": 76,
   "id": "f471d15f",
   "metadata": {},
   "outputs": [],
   "source": [
    "for i in range(0,5):\n",
    "    f0 = open(\"beta\"+str(i)+\"_0.vtk\",\"r\")"
   ]
  },
  {
   "cell_type": "code",
   "execution_count": 70,
   "id": "bd5dc277",
   "metadata": {},
   "outputs": [
    {
     "data": {
      "text/plain": [
       "<_io.TextIOWrapper name='beta4_0.vtk' mode='w' encoding='US-ASCII'>"
      ]
     },
     "execution_count": 70,
     "metadata": {},
     "output_type": "execute_result"
    }
   ],
   "source": [
    "f0"
   ]
  },
  {
   "cell_type": "code",
   "execution_count": 104,
   "id": "bcf2c0ba",
   "metadata": {},
   "outputs": [],
   "source": [
    "file = pv.read(\"max/beta0max_0.vtk\")\n",
    "plotter = pv.Plotter()\n",
    "reader = pv.get_reader(\"max/beta0max_0.vtk\")\n",
    "data00 = reader.read()"
   ]
  },
  {
   "cell_type": "code",
   "execution_count": 78,
   "id": "389b4ef0",
   "metadata": {},
   "outputs": [
    {
     "data": {
      "text/plain": [
       "pyvista_ndarray([[7.7333331e-01, 0.0000000e+00, 0.0000000e+00],\n",
       "                 [7.8399998e-01, 0.0000000e+00, 0.0000000e+00],\n",
       "                 [7.9466665e-01, 0.0000000e+00, 0.0000000e+00],\n",
       "                 ...,\n",
       "                 [1.9786667e+00, 3.4596107e-07, 0.0000000e+00],\n",
       "                 [1.9893334e+00, 3.4782610e-07, 0.0000000e+00],\n",
       "                 [2.0000000e+00, 3.4969111e-07, 0.0000000e+00]],\n",
       "                dtype=float32)"
      ]
     },
     "execution_count": 78,
     "metadata": {},
     "output_type": "execute_result"
    }
   ],
   "source": [
    "file.points"
   ]
  },
  {
   "cell_type": "code",
   "execution_count": 79,
   "id": "514b9c92",
   "metadata": {},
   "outputs": [
    {
     "data": {
      "text/plain": [
       "['maxp', 'maxrho']"
      ]
     },
     "execution_count": 79,
     "metadata": {},
     "output_type": "execute_result"
    }
   ],
   "source": [
    "file.array_names"
   ]
  },
  {
   "cell_type": "code",
   "execution_count": 85,
   "id": "3c8eef44",
   "metadata": {},
   "outputs": [],
   "source": [
    "beta0_prs0 = data00.get_array('maxp')"
   ]
  },
  {
   "cell_type": "code",
   "execution_count": 86,
   "id": "2ea9604c",
   "metadata": {},
   "outputs": [
    {
     "name": "stdout",
     "output_type": "stream",
     "text": [
      "[0.00500159 0.00500159 0.00500159 ... 0.00500159 0.00500159 0.00500159]\n"
     ]
    }
   ],
   "source": [
    "print(beta0_prs0)"
   ]
  },
  {
   "cell_type": "code",
   "execution_count": 87,
   "id": "bf0b782a",
   "metadata": {},
   "outputs": [
    {
     "data": {
      "text/plain": [
       "0.005001586861908436"
      ]
     },
     "execution_count": 87,
     "metadata": {},
     "output_type": "execute_result"
    }
   ],
   "source": [
    "beta0_prs0[1]"
   ]
  },
  {
   "cell_type": "code",
   "execution_count": 105,
   "id": "da55ffa9",
   "metadata": {},
   "outputs": [],
   "source": [
    "file = pv.read(\"max/beta0max_10.vtk\")\n",
    "plotter = pv.Plotter()\n",
    "reader = pv.get_reader(\"max/beta0max_10.vtk\")\n",
    "data010 = reader.read()\n",
    "file = pv.read(\"max/beta0max_70.vtk\")\n",
    "plotter = pv.Plotter()\n",
    "reader = pv.get_reader(\"max/beta0max_70.vtk\")\n",
    "data070 = reader.read()"
   ]
  },
  {
   "cell_type": "code",
   "execution_count": 106,
   "id": "a4ea3350",
   "metadata": {},
   "outputs": [],
   "source": [
    "file = pv.read(\"max/beta1max_0.vtk\")\n",
    "plotter = pv.Plotter()\n",
    "reader = pv.get_reader(\"max/beta1max_0.vtk\")\n",
    "data10 = reader.read()\n",
    "file = pv.read(\"max/beta1max_10.vtk\")\n",
    "plotter = pv.Plotter()\n",
    "reader = pv.get_reader(\"max/beta1max_10.vtk\")\n",
    "data110 = reader.read()\n",
    "file = pv.read(\"max/beta1max_70.vtk\")\n",
    "plotter = pv.Plotter()\n",
    "reader = pv.get_reader(\"max/beta1max_70.vtk\")\n",
    "data170 = reader.read()"
   ]
  },
  {
   "cell_type": "code",
   "execution_count": 107,
   "id": "c36ff4c4",
   "metadata": {},
   "outputs": [],
   "source": [
    "file = pv.read(\"max/beta2max_0.vtk\")\n",
    "plotter = pv.Plotter()\n",
    "reader = pv.get_reader(\"max/beta2max_0.vtk\")\n",
    "data20 = reader.read()\n",
    "file = pv.read(\"max/beta2max_10.vtk\")\n",
    "plotter = pv.Plotter()\n",
    "reader = pv.get_reader(\"max/beta2max_10.vtk\")\n",
    "data210 = reader.read()\n",
    "file = pv.read(\"max/beta2max_70.vtk\")\n",
    "plotter = pv.Plotter()\n",
    "reader = pv.get_reader(\"max/beta2max_70.vtk\")\n",
    "data270 = reader.read()"
   ]
  },
  {
   "cell_type": "code",
   "execution_count": 108,
   "id": "f9361ffa",
   "metadata": {},
   "outputs": [],
   "source": [
    "file = pv.read(\"max/beta3max_0.vtk\")\n",
    "plotter = pv.Plotter()\n",
    "reader = pv.get_reader(\"max/beta3max_0.vtk\")\n",
    "data30 = reader.read()\n",
    "file = pv.read(\"max/beta3max_10.vtk\")\n",
    "plotter = pv.Plotter()\n",
    "reader = pv.get_reader(\"max/beta3max_10.vtk\")\n",
    "data310 = reader.read()\n",
    "file = pv.read(\"max/beta3max_70.vtk\")\n",
    "plotter = pv.Plotter()\n",
    "reader = pv.get_reader(\"max/beta3max_70.vtk\")\n",
    "data370 = reader.read()"
   ]
  },
  {
   "cell_type": "code",
   "execution_count": 109,
   "id": "24ec4734",
   "metadata": {},
   "outputs": [],
   "source": [
    "file = pv.read(\"max/beta4max_0.vtk\")\n",
    "plotter = pv.Plotter()\n",
    "reader = pv.get_reader(\"max/beta4max_0.vtk\")\n",
    "data40 = reader.read()\n",
    "file = pv.read(\"max/beta4max_10.vtk\")\n",
    "plotter = pv.Plotter()\n",
    "reader = pv.get_reader(\"max/beta4max_10.vtk\")\n",
    "data410 = reader.read()\n",
    "file = pv.read(\"max/beta4max_70.vtk\")\n",
    "plotter = pv.Plotter()\n",
    "reader = pv.get_reader(\"max/beta4max_70.vtk\")\n",
    "data470 = reader.read()"
   ]
  },
  {
   "cell_type": "code",
   "execution_count": 293,
   "id": "fd9bdb11",
   "metadata": {},
   "outputs": [
    {
     "data": {
      "text/html": [
       "<table><tr><th>Header</th><th>Data Arrays</th></tr><tr><td>\n",
       "<table>\n",
       "<tr><th>StructuredGrid</th><th>Information</th></tr>\n",
       "<tr><td>N Cells</td><td>29440</td></tr>\n",
       "<tr><td>N Points</td><td>29812</td></tr>\n",
       "<tr><td>X Bounds</td><td>-2.000e+00, 2.000e+00</td></tr>\n",
       "<tr><td>Y Bounds</td><td>-2.000e+00, 2.000e+00</td></tr>\n",
       "<tr><td>Z Bounds</td><td>0.000e+00, 0.000e+00</td></tr>\n",
       "<tr><td>Dimensions</td><td>116, 257, 1</td></tr>\n",
       "<tr><td>N Arrays</td><td>2</td></tr>\n",
       "</table>\n",
       "\n",
       "</td><td>\n",
       "<table>\n",
       "<tr><th>Name</th><th>Field</th><th>Type</th><th>N Comp</th><th>Min</th><th>Max</th></tr>\n",
       "<tr><td>maxp</td><td>Cells</td><td>float64</td><td>1</td><td>5.002e-03</td><td>5.002e-03</td></tr>\n",
       "<tr><td>maxrho</td><td>Cells</td><td>float64</td><td>1</td><td>2.001e+00</td><td>2.001e+00</td></tr>\n",
       "</table>\n",
       "\n",
       "</td></tr> </table>"
      ],
      "text/plain": [
       "StructuredGrid (0x7fc091a09340)\n",
       "  N Cells:\t29440\n",
       "  N Points:\t29812\n",
       "  X Bounds:\t-2.000e+00, 2.000e+00\n",
       "  Y Bounds:\t-2.000e+00, 2.000e+00\n",
       "  Z Bounds:\t0.000e+00, 0.000e+00\n",
       "  Dimensions:\t116, 257, 1\n",
       "  N Arrays:\t2"
      ]
     },
     "execution_count": 293,
     "metadata": {},
     "output_type": "execute_result"
    }
   ],
   "source": [
    "data20"
   ]
  },
  {
   "cell_type": "code",
   "execution_count": 110,
   "id": "0d25bf91",
   "metadata": {},
   "outputs": [],
   "source": [
    "beta0_prs0 = data00.get_array('maxp')\n",
    "beta0_prs10 = data010.get_array('maxp')\n",
    "beta0_prs70 = data070.get_array('maxp')\n",
    "beta0_rho10 = data010.get_array('maxrho')\n",
    "beta0_rho70 = data070.get_array('maxrho')"
   ]
  },
  {
   "cell_type": "code",
   "execution_count": 111,
   "id": "aade9e89",
   "metadata": {},
   "outputs": [],
   "source": [
    "beta1_prs0 = data10.get_array('maxp')\n",
    "beta1_prs10 = data110.get_array('maxp')\n",
    "beta1_prs70 = data170.get_array('maxp')\n",
    "beta1_rho10 = data110.get_array('maxrho')\n",
    "beta1_rho70 = data170.get_array('maxrho')"
   ]
  },
  {
   "cell_type": "code",
   "execution_count": 112,
   "id": "9496238b",
   "metadata": {},
   "outputs": [],
   "source": [
    "beta2_prs0 = data20.get_array('maxp')\n",
    "beta2_prs10 = data210.get_array('maxp')\n",
    "beta2_prs70 = data270.get_array('maxp')\n",
    "beta2_rho10 = data210.get_array('maxrho')\n",
    "beta2_rho70 = data270.get_array('maxrho')"
   ]
  },
  {
   "cell_type": "code",
   "execution_count": 113,
   "id": "9a540583",
   "metadata": {},
   "outputs": [],
   "source": [
    "beta3_prs0 = data30.get_array('maxp')\n",
    "beta3_prs10 = data310.get_array('maxp')\n",
    "beta3_prs70 = data370.get_array('maxp')\n",
    "beta3_rho10 = data310.get_array('maxrho')\n",
    "beta3_rho70 = data370.get_array('maxrho')"
   ]
  },
  {
   "cell_type": "code",
   "execution_count": 114,
   "id": "ae4fd1b2",
   "metadata": {},
   "outputs": [],
   "source": [
    "beta4_prs0 = data40.get_array('maxp')\n",
    "beta4_prs10 = data410.get_array('maxp')\n",
    "beta4_prs70 = data470.get_array('maxp')\n",
    "beta4_rho10 = data410.get_array('maxrho')\n",
    "beta4_rho70 = data470.get_array('maxrho')"
   ]
  },
  {
   "cell_type": "code",
   "execution_count": 134,
   "id": "8e9ffa13",
   "metadata": {},
   "outputs": [],
   "source": [
    "prs0 = ['beta{:01}_prs0'.format(i) for i in range(0,5)]\n",
    "prs10 = ['beta{:01}_prs10'.format(i) for i in range(0,5)]"
   ]
  },
  {
   "cell_type": "code",
   "execution_count": 157,
   "id": "d93a7ab4",
   "metadata": {},
   "outputs": [],
   "source": [
    "prs_tmin=[beta0_prs10[1] -beta0_prs0[1],beta1_prs10[1] -beta1_prs0[1],\n",
    "          beta2_prs10[1] -beta2_prs0[1],beta3_prs10[1] -beta3_prs0[1],\n",
    "          beta4_prs10[1] -beta4_prs0[1]]\n",
    "          \n",
    "          \n",
    "prs_tmax=[beta0_prs70[1] -beta0_prs0[1],beta1_prs70[1] -beta1_prs0[1],\n",
    "          beta2_prs70[1] -beta2_prs0[1],beta3_prs70[1] -beta3_prs0[1],\n",
    "          beta4_prs70[1] -beta4_prs0[1]]\n",
    "\n",
    "rho_min = [beta0_rho10[1],beta1_rho10[1],beta2_rho10[1],beta3_rho10[1],beta4_rho10[1]]\n",
    "\n",
    "rho_max = [beta0_rho70[1],beta1_rho70[1],beta2_rho70[1],beta3_rho70[1],beta4_rho70[1]]\n",
    "                "
   ]
  },
  {
   "cell_type": "code",
   "execution_count": 158,
   "id": "a870ee1d",
   "metadata": {},
   "outputs": [
    {
     "data": {
      "text/plain": [
       "[1.7925761938095093,\n",
       " 1.7532966136932373,\n",
       " 1.7509657144546509,\n",
       " 1.750767707824707,\n",
       " 1.7507389783859253]"
      ]
     },
     "execution_count": 158,
     "metadata": {},
     "output_type": "execute_result"
    }
   ],
   "source": [
    "rho_min"
   ]
  },
  {
   "cell_type": "code",
   "execution_count": 163,
   "id": "dd243f5b",
   "metadata": {},
   "outputs": [],
   "source": [
    "phi_min = np.divide(prs_tmin,rho_min)\n",
    "phi_max = np.divide(prs_tmax,rho_max)"
   ]
  },
  {
   "cell_type": "code",
   "execution_count": 164,
   "id": "8b21ef5e",
   "metadata": {},
   "outputs": [],
   "source": [
    "growth = (phi_max - phi_min)"
   ]
  },
  {
   "cell_type": "code",
   "execution_count": 169,
   "id": "68139866",
   "metadata": {},
   "outputs": [],
   "source": [
    "Beta = [5, 50,500,5000,50000]"
   ]
  },
  {
   "cell_type": "code",
   "execution_count": 174,
   "id": "fec6b711",
   "metadata": {},
   "outputs": [],
   "source": [
    "import matplotlib.pyplot as plt\n"
   ]
  },
  {
   "cell_type": "code",
   "execution_count": 179,
   "id": "7f33b741",
   "metadata": {},
   "outputs": [
    {
     "data": {
      "image/png": "[encoded data removed]",
      "text/plain": [
       "<Figure size 432x288 with 1 Axes>"
      ]
     },
     "metadata": {
      "needs_background": "light"
     },
     "output_type": "display_data"
    }
   ],
   "source": [
    "plt.plot(np.log(Beta),growth)\n",
    "plt.xlabel(Beta)\n",
    "plt.show()"
   ]
  },
  {
   "cell_type": "code",
   "execution_count": null,
   "id": "73381eec",
   "metadata": {},
   "outputs": [],
   "source": []
  }
 ],
 "metadata": {
  "kernelspec": {
   "display_name": "Python 3 (ipykernel)",
   "language": "python",
   "name": "python3"
  },
  "language_info": {
   "codemirror_mode": {
    "name": "ipython",
    "version": 3
   },
   "file_extension": ".py",
   "mimetype": "text/x-python",
   "name": "python",
   "nbconvert_exporter": "python",
   "pygments_lexer": "ipython3",
   "version": "3.9.7"
  }
 },
 "nbformat": 4,
 "nbformat_minor": 5
}
